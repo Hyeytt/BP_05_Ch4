{
  "nbformat": 4,
  "nbformat_minor": 0,
  "metadata": {
    "colab": {
      "provenance": [],
      "authorship_tag": "ABX9TyOQ8zc2Hho6K6Sb8SAonLr0",
      "include_colab_link": true
    },
    "kernelspec": {
      "name": "python3",
      "display_name": "Python 3"
    },
    "language_info": {
      "name": "python"
    }
  },
  "cells": [
    {
      "cell_type": "markdown",
      "metadata": {
        "id": "view-in-github",
        "colab_type": "text"
      },
      "source": [
        "<a href=\"https://colab.research.google.com/github/Hyeytt/BP_05_Ch4/blob/main/BP_05_Ch4.ipynb\" target=\"_parent\"><img src=\"https://colab.research.google.com/assets/colab-badge.svg\" alt=\"Open In Colab\"/></a>"
      ]
    },
    {
      "cell_type": "markdown",
      "source": [
        "# 1. 다음과 같은 수식이 오류를 발생시키는가? 올바르게 수정하라.\n",
        "# '나는' +  12 + '개의 사과를 먹었다.'"
      ],
      "metadata": {
        "id": "G1oM2Kh55740"
      }
    },
    {
      "cell_type": "markdown",
      "source": [
        "문자열과 문자열이 합쳐져야 하기 때문에 str() 함수를 사용해야 한다.\n",
        "\n",
        "\n",
        "\"나는\" + str(12) + \"개의 사과를 먹었다.\"\n",
        "\n",
        "또는 \n",
        "\n",
        "'+' 가 아닌  ' , '를 사용하여 표현해야 한다\n",
        "\n",
        "\"나는\" , 12 , \"개의 사과를 먹었다.\""
      ],
      "metadata": {
        "id": "NbU9vP5M6X7Q"
      }
    },
    {
      "cell_type": "code",
      "source": [
        "print(\"나는 \"+  str(12) + \"개의 사과를 먹었다.\") #문자열과 문자열이 합쳐져야 하기 때문에 str() 함수를 사용해야 한다.\n",
        "print(\"나는\",12,\"개의 사과를 먹었다.\")           #'+' 가 아닌 ' , '를 사용하여 표현 할 수 있다"
      ],
      "metadata": {
        "colab": {
          "base_uri": "https://localhost:8080/"
        },
        "id": "etYWWIcT8PPq",
        "outputId": "3cfb3f09-7831-41dc-96d5-1a51b3e5bd27"
      },
      "execution_count": 20,
      "outputs": [
        {
          "output_type": "stream",
          "name": "stdout",
          "text": [
            "나는 12개의 사과를 먹었다.\n",
            "나는 12 개의 사과를 먹었다.\n"
          ]
        }
      ]
    },
    {
      "cell_type": "markdown",
      "source": [
        "# 2. 다음과 같은 수식을 계산하면 결과는 무엇인가?\n",
        "\n",
        "# 'apple' + 'grape'\n",
        "\n",
        "# 'apple' * 3"
      ],
      "metadata": {
        "id": "eN9JcS677Z0z"
      }
    },
    {
      "cell_type": "code",
      "execution_count": 4,
      "metadata": {
        "colab": {
          "base_uri": "https://localhost:8080/"
        },
        "id": "mSPFmCd9568v",
        "outputId": "ec7ff686-b78c-4fc0-8012-69e3a835030d"
      },
      "outputs": [
        {
          "output_type": "stream",
          "name": "stdout",
          "text": [
            "applegrape\n",
            "appleappleapple\n"
          ]
        }
      ],
      "source": [
        "print('apple' + 'grape')            # 문자열과 문자열을 합한다\n",
        "\n",
        "print('apple' * 3)                  # * 을 사용함으로서 apple을 3번 반복한다"
      ]
    },
    {
      "cell_type": "markdown",
      "source": [
        "# 3. 다음과 같이 사용자가 입력한 문자열 중에서 처음 2 글자와 마지막 2 글자를 추출한 후에 이들을 합쳐서 출럭해보자"
      ],
      "metadata": {
        "id": "D8vOo_WL9Tkc"
      }
    },
    {
      "cell_type": "code",
      "source": [
        "s = input(\"문자열을 입력하시오 : \")    # input함수를 사용해서 질문받기\n",
        "print(s[0:2] + s[-2:])                 # [0:2]는 앞 2글자를 출력시키고, [-2:]는 뒤 2글자를 출력시킨다."
      ],
      "metadata": {
        "colab": {
          "base_uri": "https://localhost:8080/"
        },
        "id": "Z8NQETG09kEX",
        "outputId": "f5a61abc-023c-4a35-9dc8-52d626848cff"
      },
      "execution_count": 21,
      "outputs": [
        {
          "output_type": "stream",
          "name": "stdout",
          "text": [
            "문자열을 입력하시오 : python\n",
            "pyon\n"
          ]
        }
      ]
    },
    {
      "cell_type": "markdown",
      "source": [
        "# 4. 다음과 같이 사용자가 입력한 문자열 뒤에 항상“하는 중\" 을 붙이는 프로그램을 작성해보자."
      ],
      "metadata": {
        "id": "HQsiVTuH_mW_"
      }
    },
    {
      "cell_type": "code",
      "source": [
        "text = input(\"문자열을 입력하시오 : \")\n",
        "print(text + \"하는 중\")"
      ],
      "metadata": {
        "colab": {
          "base_uri": "https://localhost:8080/"
        },
        "id": "pI2MJmCE_2op",
        "outputId": "1c4076c7-41c7-46bb-cc09-465d0dec2ea0"
      },
      "execution_count": 28,
      "outputs": [
        {
          "output_type": "stream",
          "name": "stdout",
          "text": [
            "문자열을 입력하시오 : 청소\n",
            "청소하는 중\n"
          ]
        }
      ]
    },
    {
      "cell_type": "markdown",
      "source": [
        "# 5. 사용자가 입력한 기호 안에 문자열을 삽입하려면 어떻게 해야하는가? 기호는 문자 2개로 이루어있다고 가정한다."
      ],
      "metadata": {
        "id": "LgaYuVYNAmm-"
      }
    },
    {
      "cell_type": "code",
      "source": [
        "s = input(\"기호를 입력하시오 : \")                      # input함수를 이용해 질문받기\n",
        "t = input(\"중간에 삽입할 문자열을 입력하시오 : \")      # input함수를 이용해 질문받기\n",
        "print(s[0] + t + s[1] )                                # s[0]으로 '['출력 , s[1]로 ']' 출력"
      ],
      "metadata": {
        "colab": {
          "base_uri": "https://localhost:8080/"
        },
        "id": "IshGMaV1BENu",
        "outputId": "e77039bc-6144-4840-d79d-1c91cc52a5c0"
      },
      "execution_count": 25,
      "outputs": [
        {
          "output_type": "stream",
          "name": "stdout",
          "text": [
            "기호를 입력하시오 : []\n",
            "중간에 삽입할 문자열을 입력하시오 : python\n",
            "[python]\n"
          ]
        }
      ]
    },
    {
      "cell_type": "markdown",
      "source": [
        "# 6. 4개의 숫자가 들어 있는 리스트가 있다. 리스트 안의 숫자들을 꺼내서 합계를 계산하여 출력하는 프로그램을 작성하라. 반복문은 사용하지 않는다. 리스트의 길이는 항상 4라고 가정한다."
      ],
      "metadata": {
        "id": "SIs31YGEC0bx"
      }
    },
    {
      "cell_type": "code",
      "source": [
        "list = [ 1, 2, 3, 4]                                                # 변수 list 값 지정\n",
        "sum = int(list[0]) + int(list[1]) + int(list[2]) + int(list[3])     # 리스트의 순서는 0부터 시작, int 함수로 정수로 변환   \n",
        "\n",
        "print(\"리스트 = \", list)                                            # print 함수로 문자 출력 \n",
        "print(\"리스트 숫자들의 합 =\", sum )                                 # print 함수로 문자 출력"
      ],
      "metadata": {
        "id": "PVrD8U6aDZWZ"
      },
      "execution_count": null,
      "outputs": []
    },
    {
      "cell_type": "markdown",
      "source": [
        "# 7. 사용지가 입력하는 3가지 색상을 리스트에 저장하였다가 하나씩 꺼내서  그 색상으로 채워진 원을 그리는 프로그램을 작성해보자. 반복분은 사용하지 않는다. 채워진 원을 그리려면 다음와 같은 문장들을 사용한다."
      ],
      "metadata": {
        "id": "v2xB7aePE8aE"
      }
    },
    {
      "cell_type": "markdown",
      "source": [
        "    import turtle                 # 라이브러리에서 turtle 함수를 불러오기\n",
        "\n",
        "    t = turtle.Turtle()           # 변수 t가 turtle 함수임을 선언\n",
        "\n",
        "    t.shape(\"turtle\")             # 커서의 모양을 거북이로 설정\n",
        "\n",
        "    color = [ ]                   # color 가 리스트임을 선언\n",
        "\n",
        "\n",
        "    color1 = input(\" 색상 #1을 입력하시오 : \") # input 함수를 통해 변수 color1의   값을 물어봄 \n",
        "\n",
        "    color.append(color1)                     # color1을 append 함수를 활용해 \n",
        "\n",
        "    color 리스트에 추가\n",
        "\n",
        "    color2= input(\" 색상 #2을 입력하시오 : \") # input 함수를 통해 변수 color2의   값을 물어봄 \n",
        "\n",
        "    color.append(color2)                    # color2를 append 함수를 활용해 color 리스트에 추가\n",
        "\n",
        "\n",
        "    color3 = input(\" 색상 #3을 입력하시오 : \") # input 함수를 통해 변수 color3의   값을 물어봄 \n",
        "\n",
        "    color.append(color3) # color3을 append 함수를 활용해 color 리스트에 추가\n",
        "\n",
        "    t.fillcolor(color[0]) # 펜을 입력받은 color1의 색상으로 변화시킨다 \n",
        "                      리스트에서 요소를 셀때에는 0에서부터 시작을한다     \n",
        "\n",
        "    t.begin_fill()  # 색 채우기를 시작한다\n",
        "\n",
        "    t.circle(50)  # 원의 크기를 50으로 정한다\n",
        "\n",
        "    t.end_fill() # 색채우기를 끝낸다\n",
        "\n",
        "    t.up()     # 펜을 든다\n",
        "\n",
        "    t.goto(100,0) # 펜의 좌표를 (200,0)으로 이동시킨다\n",
        "\n",
        "    t.down()  #펜을 내린다\n",
        "\n",
        "    t.fillcolor(color[1])   # 펜을 입력받은 color2의 색상으로 변화시킨다   \n",
        "\n",
        "    t.begin_fill()             # 색 채우기를 시작한다\n",
        "\n",
        "    t.circle(50)                 # 원의 크기를 50으로 정한다\n",
        "\n",
        "    t.end_fill()                    # 색채우기를 끝낸다\n",
        "\n",
        "    t.up()               # 펜을 든다\n",
        "\n",
        "    t.goto(200,0)        # 펜의 좌표를 (200,0)으로 이동시킨다\n",
        "\n",
        "    t.down()                #펜을 내린다\n",
        "\n",
        "\n",
        "    t.fillcolor(color[2])  # 펜을 입력받은 color3의 색상으로 변화시킨다  \n",
        "\n",
        "    t.begin_fill()      # 색 채우기를 시작한다\n",
        "\n",
        "    t.circle(50)            # 원의 크기를 50으로 정한다\n",
        "\n",
        "    t.end_fill()            # 색채우기를 끝낸다\n",
        "\n"
      ],
      "metadata": {
        "id": "CRA6rE2iFTHX"
      }
    },
    {
      "cell_type": "markdown",
      "source": [
        "# 8. 사용자가 입력하는 3개의 좌표(x, y)를 리스트에 저장한다. 이들 좌표를 꺼내서 거북이를 이동하는 프로그램을 작성해보자."
      ],
      "metadata": {
        "id": "G8wX7EW9NPQz"
      }
    },
    {
      "cell_type": "markdown",
      "source": [
        "    import turtle                 # 라이브러리에서 turtle 함수를 불러오기\n",
        "\n",
        "    t = turtle.Turtle()           # 변수 t가 turtle 함수임을 선언\n",
        "\n",
        "    t.shape(\"turtle\")             # 커서의 모양을 거북이로 설정\n",
        "\n",
        "    x1 = int(input(\"x1 = \") )     # input함수로 x1 값을 입력받은 후 int함수로 정수처리  \n",
        "    y1 = int(input(\"y1 = \") )     # input함수로 y1 값을 입력받은 후 int함수로 정수처리  \n",
        "    x2 = int(input(\"x2 = \") )     # input함수로 x2 값을 입력받은 후 int함수로 정수처리   \n",
        "    y2 = int(input(\"y2 = \") )     # input함수로 y2 값을 입력받은 후 int함수로 정수처리  \n",
        "    x3 = int(input(\"x3 = \") )     # input함수로 x3 값을 입력받은 후 int함수로 정수처리  \n",
        "    y3 = int(input(\"y3 = \") )     # input함수로 y3 값을 입력받은 후 int함수로 정수처리  \n",
        "\n",
        "    p1 = [ x1 , y1 ]              # p1의 좌표를 입력받은 x1, y1으로 설정\n",
        "    p2 = [ x2 , y2 ]              # p2의 좌표를 입력받은 x2, y2으로 설정\n",
        "    p3 = [ x3,  y3 ]              # p3의 좌표를 입력받은 x3, y3으로 설정\n",
        "\n",
        "    t.goto(p1)                   #p1 좌표로 이동 \n",
        "    t.goto(p2)                    #p2 좌표로 이동 \n",
        "    t.goto(p3)                    #p3 좌표로 이동"
      ],
      "metadata": {
        "id": "uvuDRyHpNxf_"
      }
    }
  ]
}