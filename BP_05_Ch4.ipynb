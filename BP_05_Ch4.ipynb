{
  "nbformat": 4,
  "nbformat_minor": 0,
  "metadata": {
    "colab": {
      "provenance": [],
      "authorship_tag": "ABX9TyNwmAbh/iFxDUQsEdWsrT0E",
      "include_colab_link": true
    },
    "kernelspec": {
      "name": "python3",
      "display_name": "Python 3"
    },
    "language_info": {
      "name": "python"
    }
  },
  "cells": [
    {
      "cell_type": "markdown",
      "metadata": {
        "id": "view-in-github",
        "colab_type": "text"
      },
      "source": [
        "<a href=\"https://colab.research.google.com/github/Hyeytt/BP_05_Ch4/blob/main/BP_05_Ch4.ipynb\" target=\"_parent\"><img src=\"https://colab.research.google.com/assets/colab-badge.svg\" alt=\"Open In Colab\"/></a>"
      ]
    },
    {
      "cell_type": "markdown",
      "source": [
        "# 1. 다음과 같은 수식이 오류를 발생시키는가? 올바르게 수정하라.\n",
        "# '나는' +  12 + '개의 사과를 먹었다.'"
      ],
      "metadata": {
        "id": "G1oM2Kh55740"
      }
    },
    {
      "cell_type": "markdown",
      "source": [
        "문자열과 문자열이 합쳐져야 하기 때문에 str() 함수를 사용해야 한다.\n",
        "\n",
        "\n",
        "\"나는\" + str(12) + \"개의 사과를 먹었다.\"\n",
        "\n",
        "또는 \n",
        "\n",
        "'+' 가 아닌  ' , '를 사용하여 표현해야 한다\n",
        "\n",
        "\"나는\" , 12 , \"개의 사과를 먹었다.\""
      ],
      "metadata": {
        "id": "NbU9vP5M6X7Q"
      }
    },
    {
      "cell_type": "code",
      "source": [
        "print(\"나는 \"+  str(12) + \"개의 사과를 먹었다.\") #문자열과 문자열이 합쳐져야 하기 때문에 str() 함수를 사용해야 한다.\n",
        "print(\"나는\",12,\"개의 사과를 먹었다.\")           #'+' 가 아닌 ' , '를 사용하여 표현 할 수 있다"
      ],
      "metadata": {
        "colab": {
          "base_uri": "https://localhost:8080/"
        },
        "id": "etYWWIcT8PPq",
        "outputId": "3cfb3f09-7831-41dc-96d5-1a51b3e5bd27"
      },
      "execution_count": 20,
      "outputs": [
        {
          "output_type": "stream",
          "name": "stdout",
          "text": [
            "나는 12개의 사과를 먹었다.\n",
            "나는 12 개의 사과를 먹었다.\n"
          ]
        }
      ]
    },
    {
      "cell_type": "markdown",
      "source": [
        "# 2. 다음과 같은 수식을 계산하면 결과는 무엇인가?\n",
        "\n",
        "# 'apple' + 'grape'\n",
        "\n",
        "# 'apple' * 3"
      ],
      "metadata": {
        "id": "eN9JcS677Z0z"
      }
    },
    {
      "cell_type": "code",
      "execution_count": 4,
      "metadata": {
        "colab": {
          "base_uri": "https://localhost:8080/"
        },
        "id": "mSPFmCd9568v",
        "outputId": "ec7ff686-b78c-4fc0-8012-69e3a835030d"
      },
      "outputs": [
        {
          "output_type": "stream",
          "name": "stdout",
          "text": [
            "applegrape\n",
            "appleappleapple\n"
          ]
        }
      ],
      "source": [
        "print('apple' + 'grape')            # 문자열과 문자열을 합한다\n",
        "\n",
        "print('apple' * 3)                  # * 을 사용함으로서 apple을 3번 반복한다"
      ]
    },
    {
      "cell_type": "markdown",
      "source": [
        "# 3. 다음과 같이 사용자가 입력한 문자열 중에서 처음 2 글자와 마지막 2 글자를 추출한 후에 이들을 합쳐서 출럭해보자"
      ],
      "metadata": {
        "id": "D8vOo_WL9Tkc"
      }
    },
    {
      "cell_type": "code",
      "source": [
        "s = input(\"문자열을 입력하시오 : \")    # input함수를 사용해서 질문받기\n",
        "print(s[0:2] + s[-2:])                 # [0:2]는 앞 2글자를 출력시키고, [-2:]는 뒤 2글자를 출력시킨다."
      ],
      "metadata": {
        "colab": {
          "base_uri": "https://localhost:8080/"
        },
        "id": "Z8NQETG09kEX",
        "outputId": "f5a61abc-023c-4a35-9dc8-52d626848cff"
      },
      "execution_count": 21,
      "outputs": [
        {
          "output_type": "stream",
          "name": "stdout",
          "text": [
            "문자열을 입력하시오 : python\n",
            "pyon\n"
          ]
        }
      ]
    },
    {
      "cell_type": "markdown",
      "source": [
        "# 4. 다음과 같이 사용자가 입력한 문자열 뒤에 항상“하는 중\" 을 붙이는 프로그램을 작성해보자."
      ],
      "metadata": {
        "id": "HQsiVTuH_mW_"
      }
    },
    {
      "cell_type": "code",
      "source": [
        "text = input(\"문자열을 입력하시오 : \")\n",
        "print(text + \"하는 중\")"
      ],
      "metadata": {
        "colab": {
          "base_uri": "https://localhost:8080/"
        },
        "id": "pI2MJmCE_2op",
        "outputId": "38618c80-3c8b-4be6-d5af-34aaa69a239b"
      },
      "execution_count": 24,
      "outputs": [
        {
          "output_type": "stream",
          "name": "stdout",
          "text": [
            "문자열을 입력하시오 : 청소\n",
            "청소하는 중\n"
          ]
        }
      ]
    },
    {
      "cell_type": "markdown",
      "source": [
        "# 5. 사용자가 입력한 기호 안에 문자열을 삽입하려면 어떻게 해야하는가? 기호는분자2개\n",
        "로 이루어있다고 가정한다."
      ],
      "metadata": {
        "id": "LgaYuVYNAmm-"
      }
    }
  ]
}