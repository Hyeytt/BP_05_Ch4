{
  "nbformat": 4,
  "nbformat_minor": 0,
  "metadata": {
    "colab": {
      "provenance": [],
      "authorship_tag": "ABX9TyMFuMpdQ5/ZavkSejbnSFy+",
      "include_colab_link": true
    },
    "kernelspec": {
      "name": "python3",
      "display_name": "Python 3"
    },
    "language_info": {
      "name": "python"
    }
  },
  "cells": [
    {
      "cell_type": "markdown",
      "metadata": {
        "id": "view-in-github",
        "colab_type": "text"
      },
      "source": [
        "<a href=\"https://colab.research.google.com/github/Hyeytt/BP_05_Ch4/blob/main/BP_05_20221104_E4.ipynb\" target=\"_parent\"><img src=\"https://colab.research.google.com/assets/colab-badge.svg\" alt=\"Open In Colab\"/></a>"
      ]
    },
    {
      "cell_type": "markdown",
      "source": [
        "# 1. 왜 다음과 같은 수식이 오류를 발생시키는가? 올바르게 수정하라 "
      ],
      "metadata": {
        "id": "h_AHucj7bnx_"
      }
    },
    {
      "cell_type": "code",
      "execution_count": 2,
      "metadata": {
        "colab": {
          "base_uri": "https://localhost:8080/"
        },
        "id": "yOJ3S7zFbWGf",
        "outputId": "a3193a18-4ded-4201-bffc-00a3ae089e80"
      },
      "outputs": [
        {
          "output_type": "stream",
          "name": "stdout",
          "text": [
            "나는12개의 사과를 먹었다\n",
            "나는 12 개의 사과를 먹었다\n"
          ]
        }
      ],
      "source": [
        "print('나는' + str(12) + '개의 사과를 먹었다')        # 문자열과 문자열을 합해야 하기 때문에 str함수를 사용한다\n",
        "print('나는' ,12, '개의 사과를 먹었다')               # 컴마 사용으로도 표현가능"
      ]
    },
    {
      "cell_type": "markdown",
      "source": [
        "# 2. 다음과 같은 수식을 계산하면 결과는 무엇인가?"
      ],
      "metadata": {
        "id": "fyXzdmm6ckQC"
      }
    },
    {
      "cell_type": "code",
      "source": [
        "print('apple' + 'grape')                        #문자 더하기 문자\n",
        "print('apple' * 3)                              # 문자에 숫자를 곱하면 숫자만큼 반복이 된다"
      ],
      "metadata": {
        "colab": {
          "base_uri": "https://localhost:8080/"
        },
        "id": "QvWSUJBPclq6",
        "outputId": "cd95c6a5-ed0b-454b-ed71-bb22489f3b0f"
      },
      "execution_count": null,
      "outputs": [
        {
          "output_type": "stream",
          "name": "stdout",
          "text": [
            "applegrape\n",
            "appleappleapple\n"
          ]
        }
      ]
    },
    {
      "cell_type": "markdown",
      "source": [
        "# 3."
      ],
      "metadata": {
        "id": "wg-3ZeOrdRwY"
      }
    },
    {
      "cell_type": "code",
      "source": [
        "text = input(\"문자열을 입력하시오 : \")          \n",
        "t = text[0:2] + text[-2:]                      # 앞의 두글자 가져오기 ,뒤의 두글자 가져오기\n",
        "print(t)"
      ],
      "metadata": {
        "colab": {
          "base_uri": "https://localhost:8080/"
        },
        "id": "vi76Dgm2dY5O",
        "outputId": "10040970-54bf-42c1-9157-0476c47194b3"
      },
      "execution_count": null,
      "outputs": [
        {
          "output_type": "stream",
          "name": "stdout",
          "text": [
            "문자열을 입력하시오 : python\n",
            "pyon\n"
          ]
        }
      ]
    },
    {
      "cell_type": "markdown",
      "source": [
        "# 4. "
      ],
      "metadata": {
        "id": "xBhrWH7oeE0a"
      }
    },
    {
      "cell_type": "code",
      "source": [
        "s = input(\"문자열을 입력하시오 : \")\n",
        "s += \"하는 중\"                                    # s = s + \"하는 중\" 과 같은 표현\n",
        "print(s)"
      ],
      "metadata": {
        "colab": {
          "base_uri": "https://localhost:8080/"
        },
        "id": "79dhsdIJeHQU",
        "outputId": "1619ed5a-e377-45f7-a1a8-79f647318a19"
      },
      "execution_count": 3,
      "outputs": [
        {
          "output_type": "stream",
          "name": "stdout",
          "text": [
            "문자열을 입력하시오 : 청소\n",
            "청소하는 중\n"
          ]
        }
      ]
    },
    {
      "cell_type": "markdown",
      "source": [
        "# 5."
      ],
      "metadata": {
        "id": "0tRnDUV8eksU"
      }
    },
    {
      "cell_type": "code",
      "source": [
        "_str = input(\"기호를 입력하시오 : \")                           #그냥 str함수를 사용하면 안되기 때문에 언더바 사용해야 함\n",
        "word = input(\"중간에 삽입할 문자열을 입력하시오 : \")          \n",
        "s = _str[:1] + word + _str[1:]\n",
        "\n",
        "print(s)"
      ],
      "metadata": {
        "colab": {
          "base_uri": "https://localhost:8080/"
        },
        "id": "-QPGhVOLenAz",
        "outputId": "1bce9bb9-70a9-49e4-919c-d79eda0738f8"
      },
      "execution_count": null,
      "outputs": [
        {
          "output_type": "stream",
          "name": "stdout",
          "text": [
            "기호를 입력하시오 : []\n",
            "중간에 삽입할 문자열을 입력하시오 : python\n",
            "[python]\n"
          ]
        }
      ]
    },
    {
      "cell_type": "markdown",
      "source": [
        "# 6."
      ],
      "metadata": {
        "id": "rCIpsF6Jftpe"
      }
    },
    {
      "cell_type": "code",
      "source": [
        "lista = [1, 2 ,3, 4]   \n",
        "sum = 0                                                       # 0 으로 초기화 함 !! 중요!!\n",
        "sum = lista[0] + lista[1] + lista[2] + lista[3]                   # 리스트의 배열의 첫번째는 0으로 시작하기 때문에 0을 입력\n",
        "\n",
        "print(\"리스트는\", lista)\n",
        "print(\"리스트 숫자들의 합 :\", sum)"
      ],
      "metadata": {
        "colab": {
          "base_uri": "https://localhost:8080/"
        },
        "id": "UZ6Nj8lffveN",
        "outputId": "6bb1d5d5-659d-45ea-f404-a8456deffeed"
      },
      "execution_count": 7,
      "outputs": [
        {
          "output_type": "stream",
          "name": "stdout",
          "text": [
            "리스트는 [1, 2, 3, 4]\n",
            "리스트 숫자들의 합 : 10\n"
          ]
        }
      ]
    },
    {
      "cell_type": "markdown",
      "source": [
        "# 7. "
      ],
      "metadata": {
        "id": "3KnVOUfTgTkq"
      }
    },
    {
      "cell_type": "markdown",
      "source": [
        "    import turtle                                             \n",
        "\n",
        "    t = turtle.Turtle()\n",
        "\n",
        "    t.shape(\"turtle\")\n",
        "\n",
        "    list = [ ]\n",
        "\n",
        "    color = input(\"색상 #1을 입력하시오\")\n",
        "\n",
        "    list.append(color)\n",
        "\n",
        "    color = input(\"색상 #2을 입력하시오\")\n",
        "\n",
        "    list.append(color)\n",
        "\n",
        "\n",
        "    color = input(\"색상 #3을 입력하시오\")\n",
        "\n",
        "    list.append(color)\n",
        "\n",
        "    t.fillcolor(list[0])\n",
        "\n",
        "    t.begin_fill()\n",
        "\n",
        "    t.circle(50)\n",
        "\n",
        "    t.end_fill()\n",
        "\n",
        "    t.up()\n",
        "    t.goto(100,0)\n",
        "    t.down()\n",
        "\n",
        "    t.fillcolor(list[1])\n",
        "\n",
        "    t.begin_fill()\n",
        "\n",
        "    t.circle(50)\n",
        "\n",
        "    t.end_fill()\n",
        "\n",
        "    t.up()\n",
        "    t.goto(200,0)\n",
        "    t.down()\n",
        "\n",
        "    t.fillcolor(list[2])\n",
        "\n",
        "    t.begin_fill()\n",
        "\n",
        "    t.circle(50)\n",
        "\n",
        "    t.end_fill()\n",
        "\n",
        "    t._screen.exitonclick()"
      ],
      "metadata": {
        "id": "erYLPq5lgX1v"
      }
    },
    {
      "cell_type": "markdown",
      "source": [
        "# 8. "
      ],
      "metadata": {
        "id": "4MUMKy0thqxR"
      }
    },
    {
      "cell_type": "markdown",
      "source": [
        "    import turtle\n",
        "\n",
        "    t = turtle.Turtle()\n",
        "\n",
        "    t.shape(\"turtle\")                                              \n",
        "\n",
        "    lista = [ ]\n",
        "\n",
        "    lista.append(int(input(\"x1 : \")))                          #append는 list 사용할때, lista에 x1값 추가\n",
        "\n",
        "    lista.append(int(input(\"y1 : \")))                                   #\n",
        "\n",
        "    lista.append(int(input(\"x2 : \")))\n",
        "\n",
        "    lista.append(int(input(\"y2 : \")))\n",
        "\n",
        "    lista.append(int(input(\"x3 : \")))\n",
        "\n",
        "    lista.append(int(input(\"y3 : \")))\n",
        "\n",
        "    t.goto(lista[0], lista[1])\n",
        "\n",
        "    t.goto(lista[2], lista[3])\n",
        "\n",
        "    t.goto(lista[4], lista[5])\n",
        "\n",
        "    t._screen.exitonclick()               #마우스로 화면을 클릭해야 종료되게 하는 문장 \n"
      ],
      "metadata": {
        "id": "hV1HcoTqht_f"
      }
    }
  ]
}